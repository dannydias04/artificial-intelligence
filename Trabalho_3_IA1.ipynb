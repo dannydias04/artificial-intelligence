{
  "nbformat": 4,
  "nbformat_minor": 0,
  "metadata": {
    "colab": {
      "name": "Trabalho 3 IA1.ipynb",
      "provenance": [],
      "collapsed_sections": []
    },
    "kernelspec": {
      "name": "python3",
      "display_name": "Python 3"
    },
    "language_info": {
      "name": "python"
    }
  },
  "cells": [
    {
      "cell_type": "markdown",
      "metadata": {
        "id": "GgH-LTpuKrmu"
      },
      "source": [
        "# **Trabalho 3 de Inteligência Artificial 1**\n",
        "\n",
        "Professora: Li Weigang\n",
        "\n",
        "Aluna: Daniele Dias\n",
        "\n",
        "matrícula: 20/0081691\n",
        "\n",
        "---"
      ]
    },
    {
      "cell_type": "markdown",
      "metadata": {
        "id": "RpxAIeXqKviY"
      },
      "source": [
        "## Criando o Perceptron"
      ]
    },
    {
      "cell_type": "markdown",
      "metadata": {
        "id": "uDzY9IRcerE0"
      },
      "source": [
        ">> O *Perceptron* abaixo, com a função degrau de ativação, inicia com valores randômicos entre $-1$ e $1$, modelado com a função linear do tipo $y = ax + b$, onde $a$ é definido como os pesos (*weights*) e $b$ o viés (*bias*), e a atualização destes pesos e vieses é feita pela variável *update*, que relaciona a taxa de aprendizado do neurônio (*alpha*) com o erro entre a saída desejada e a saída calculada a cada iteração (*epoch*)."
      ]
    },
    {
      "cell_type": "code",
      "metadata": {
        "id": "wAQXb8yl1o7b"
      },
      "source": [
        "import numpy as np\n",
        "import matplotlib.pyplot as plt\n"
      ],
      "execution_count": 1,
      "outputs": []
    },
    {
      "cell_type": "code",
      "metadata": {
        "id": "v4JrEO391o1s"
      },
      "source": [
        "class Perceptron(object):\n",
        "  \n",
        "  def __init__(self, alpha=0.1, epochs=10):\n",
        "    np.random.seed(1) # [OBS1]\n",
        "    self.alpha = alpha # alpha é o nosso fator de correção\n",
        "    self.epochs = epochs\n",
        "    self.weights = None\n",
        "    self.bias = None\n",
        "  \n",
        "  def fit (self, X, Y):\n",
        "    n_samples, n_features = X.shape\n",
        "    # Inicialize os Pesos e Bias: [ATIVIDADE 1]\n",
        "    random_values = 2*np.random.random((n_features + 1,)) - 1\n",
        "    #random_values = np.zeros(1 + n_features)\n",
        "    self.weights = random_values[1:]\n",
        "    self.bias = random_values[0]\n",
        "\n",
        "    for epoch in range(self.epochs):\n",
        "      for index, x_i in zip(X, Y):\n",
        "        # Defina as funções de treinamento: [ATIVIDADE 2]\n",
        "        update = self.alpha * (x_i - self.predict(index))\n",
        "        self.weights += update * index\n",
        "        self.bias += update\n",
        "    return self\n",
        " \n",
        "  def predict(self, X):\n",
        "    # Calcule o output do perceptron: [ATIVIDADE 3]\n",
        "    sum = np.dot(X, self.weights) + self.bias\n",
        "    output = self.activation(sum)\n",
        "    return output\n",
        "\n",
        "  def activation(self, signal):\n",
        "    return np.where( signal >= 0, 1, 0) # Função degrau de ativação\n"
      ],
      "execution_count": 2,
      "outputs": []
    },
    {
      "cell_type": "markdown",
      "metadata": {
        "id": "egVZ7iHkhPvW"
      },
      "source": [
        ">> Esta função **accuracy** determina, com valores entre $0$ e $1$, qual o percentual de acerto entre a base de teste e o valores previsto pelo *Perceptron* feita na classe acima."
      ]
    },
    {
      "cell_type": "code",
      "metadata": {
        "id": "jdH1pRV4X9vw"
      },
      "source": [
        "def accuracy(y_true, y_pred):\n",
        "    hits = 0\n",
        "    # Crie uma função de acurácia simples: [ATIVIDADE 4]\n",
        "    result = sum(y_true == y_pred) / len(y_true)\n",
        "    return result"
      ],
      "execution_count": 3,
      "outputs": []
    },
    {
      "cell_type": "markdown",
      "metadata": {
        "id": "yykRDbhgJsrq"
      },
      "source": [
        "## Validando o perceptron criado\n",
        "Aqui vamos conferir se o perceptron foi criado corretamente solucionando um problema simples de classificação linear utilizando sklearn."
      ]
    },
    {
      "cell_type": "code",
      "metadata": {
        "colab": {
          "base_uri": "https://localhost:8080/",
          "height": 282
        },
        "id": "ZPXjctno1owU",
        "outputId": "04a78353-8e9c-4a0b-c302-b28de7735a70"
      },
      "source": [
        "from sklearn.model_selection import train_test_split\n",
        "from sklearn import datasets\n",
        "\n",
        "X, y = datasets.make_blobs(\n",
        "    n_samples=150, n_features=2, centers=2, cluster_std=1.05, random_state=2\n",
        ")\n",
        "X_train, X_test, y_train, y_test = train_test_split(\n",
        "    X, y, test_size=0.2, random_state=123\n",
        ")\n",
        "\n",
        "p = Perceptron(alpha=0.01, epochs=10)\n",
        "p.fit(X_train, y_train)\n",
        "predictions = p.predict(X_test)\n",
        "\n",
        "print(\"Perceptron classification accuracy\", accuracy(y_test, predictions))\n",
        "\n",
        "# Visualizando o problema que foi solucionado\n",
        "\n",
        "fig = plt.figure()\n",
        "ax = fig.add_subplot(1, 1, 1)\n",
        "plt.scatter(X_train[:, 0], X_train[:, 1], marker=\"o\", c=y_train)\n",
        "\n",
        "x0_1 = np.amin(X_train[:, 0])\n",
        "x0_2 = np.amax(X_train[:, 0])\n",
        "\n",
        "x1_1 = (-p.weights[0] * x0_1 - p.bias) / p.weights[1]\n",
        "x1_2 = (-p.weights[0] * x0_2 - p.bias) / p.weights[1]\n",
        "\n",
        "ax.plot([x0_1, x0_2], [x1_1, x1_2], \"k\")\n",
        "\n",
        "ymin = np.amin(X_train[:, 1])\n",
        "ymax = np.amax(X_train[:, 1])\n",
        "ax.set_ylim([ymin - 3, ymax + 3])\n",
        "\n",
        "plt.show()"
      ],
      "execution_count": 4,
      "outputs": [
        {
          "output_type": "stream",
          "name": "stdout",
          "text": [
            "Perceptron classification accuracy 1.0\n"
          ]
        },
        {
          "output_type": "display_data",
          "data": {
            "image/png": "[encoded data removed]",
            "text/plain": [
              "<Figure size 432x288 with 1 Axes>"
            ]
          },
          "metadata": {
            "needs_background": "light"
          }
        }
      ]
    },
    {
      "cell_type": "markdown",
      "metadata": {
        "id": "usJsz-nRJxOZ"
      },
      "source": [
        "## OCR: Reconhecimento Óptico de Caracteres\n",
        "Vamos resolver um problema de OCR simples que pode ser caracterizado como um problema de classificação, que recebe a imagem de um caracter como input e retorna a label correspondente."
      ]
    },
    {
      "cell_type": "markdown",
      "metadata": {
        "id": "JXQEjg9R1jJL"
      },
      "source": [
        "## Dataset\n",
        "Faremos uso do dataset MNIST: http://yann.lecun.com/exdb/mnist/\n",
        "\n",
        "![picture](https://drive.google.com/uc?id=1qfouepB0Dd5BmGofIS7Nafa-nE7m9TIs)\n",
        "\n",
        "Esse dataset é composto \"imagens\" de números de 0 à 9, e contém 60.000 exemplos de treinamento e 10.000 exemplos de teste.\n",
        "\n",
        "A palavra \"imagens\" foi posta entre aspas porque os arquivos não estão salvos em .png ou .jpg, eles já estão num arquivo binário descrito no link do dataset que contém as informações pixel a pixel dos exemplos.\n",
        "\n",
        "Como o foco desse trabalho não é a manipulação de arquivos com python, deixei disponível aqui embaixo algumas funções que já tratarão desses dados e disponibilizarão de maneira simples para vocês usarem."
      ]
    },
    {
      "cell_type": "code",
      "metadata": {
        "id": "W7ZJeEWMXMA2",
        "colab": {
          "base_uri": "https://localhost:8080/"
        },
        "outputId": "cb71b33b-e616-4523-9663-242cca137ce6"
      },
      "source": [
        "# download do dataset (training set images)\n",
        "!curl -O http://yann.lecun.com/exdb/mnist/train-images-idx3-ubyte.gz\n",
        "# download do dataset (training set labels)\n",
        "!curl -O http://yann.lecun.com/exdb/mnist/train-labels-idx1-ubyte.gz\n",
        "# download do dataset (testing set images)\n",
        "!curl -O http://yann.lecun.com/exdb/mnist/t10k-images-idx3-ubyte.gz\n",
        "# download do dataset (testing set labels)\n",
        "!curl -O http://yann.lecun.com/exdb/mnist/t10k-labels-idx1-ubyte.gz"
      ],
      "execution_count": 5,
      "outputs": [
        {
          "output_type": "stream",
          "name": "stdout",
          "text": [
            "  % Total    % Received % Xferd  Average Speed   Time    Time     Time  Current\n",
            "                                 Dload  Upload   Total   Spent    Left  Speed\n",
            "100 9680k  100 9680k    0     0  91.7M      0 --:--:-- --:--:-- --:--:-- 91.7M\n",
            "  % Total    % Received % Xferd  Average Speed   Time    Time     Time  Current\n",
            "                                 Dload  Upload   Total   Spent    Left  Speed\n",
            "100 28881  100 28881    0     0   972k      0 --:--:-- --:--:-- --:--:--  972k\n",
            "  % Total    % Received % Xferd  Average Speed   Time    Time     Time  Current\n",
            "                                 Dload  Upload   Total   Spent    Left  Speed\n",
            "100 1610k  100 1610k    0     0  31.4M      0 --:--:-- --:--:-- --:--:-- 31.4M\n",
            "  % Total    % Received % Xferd  Average Speed   Time    Time     Time  Current\n",
            "                                 Dload  Upload   Total   Spent    Left  Speed\n",
            "100  4542  100  4542    0     0   116k      0 --:--:-- --:--:-- --:--:--  116k\n"
          ]
        }
      ]
    },
    {
      "cell_type": "code",
      "metadata": {
        "colab": {
          "base_uri": "https://localhost:8080/"
        },
        "id": "fA4ip2Ii20pU",
        "outputId": "764c580c-d605-412b-fe8b-7601ee4bfaa1"
      },
      "source": [
        "# Extrair arquivos\n",
        "!gunzip *"
      ],
      "execution_count": 6,
      "outputs": [
        {
          "output_type": "stream",
          "name": "stdout",
          "text": [
            "gzip: sample_data is a directory -- ignored\n"
          ]
        }
      ]
    },
    {
      "cell_type": "code",
      "metadata": {
        "id": "qXKDfdF9y4Xt"
      },
      "source": [
        "def bytes_to_int(byte_data):\n",
        "    return int.from_bytes(byte_data, 'big')\n",
        "\n",
        "def read_images(filename, n_max_images=None, show = False):\n",
        "    images = []\n",
        "    with open(filename, 'rb') as f:\n",
        "        _ = f.read(4)  # magic number\n",
        "        n_images = bytes_to_int(f.read(4))\n",
        "        if n_max_images:\n",
        "            n_images = n_max_images\n",
        "        n_rows = bytes_to_int(f.read(4))\n",
        "        n_columns = bytes_to_int(f.read(4))\n",
        "        for image_idx in range(n_images):\n",
        "            image = []\n",
        "            for row_idx in range(n_rows):\n",
        "                row = []\n",
        "                for col_idx in range(n_columns):\n",
        "                    if show:\n",
        "                        pixel = f.read(1)\n",
        "                    else:\n",
        "                        pixel = bytes_to_int(f.read(1))\n",
        "                    row.append(pixel)\n",
        "                image.append(row)\n",
        "            images.append(image)\n",
        "    return images\n",
        "\n",
        "def read_labels(filename, n_max_labels=None):\n",
        "    labels = []\n",
        "    with open(filename, 'rb') as f:\n",
        "        _ = f.read(4)  # magic number\n",
        "        n_labels = bytes_to_int(f.read(4))\n",
        "        if n_max_labels:\n",
        "            n_labels = n_max_labels\n",
        "        for label_idx in range(n_labels):\n",
        "            label = bytes_to_int(f.read(1))\n",
        "            labels.append(label)\n",
        "    return labels"
      ],
      "execution_count": 7,
      "outputs": []
    },
    {
      "cell_type": "code",
      "metadata": {
        "id": "cbWZnSBGzPPp"
      },
      "source": [
        "def flatten_list(l):\n",
        "    return [pixel for sublist in l for pixel in sublist]\n",
        "    \n",
        "def extract_features(X):\n",
        "    return [flatten_list(sample) for sample in X]"
      ],
      "execution_count": 8,
      "outputs": []
    },
    {
      "cell_type": "markdown",
      "metadata": {
        "id": "9DXazdUPboj6"
      },
      "source": [
        "A função `extract_features` seria responsável por extrair features das imagens, porém como estamos carregando todos os dados diretamente nos neurônios, ela só irá chamar a função `flatten_list` para todos os samples.\n",
        "\n",
        "A função `flatten_list` irá transformar o que era uma matriz de dados 28 x 28 em um simples vetor com 784 valores que será carregado como input para nosso perceptron."
      ]
    },
    {
      "cell_type": "markdown",
      "metadata": {
        "id": "eOd7cBkccyYj"
      },
      "source": [
        "## Pré-Processamento"
      ]
    },
    {
      "cell_type": "code",
      "metadata": {
        "colab": {
          "base_uri": "https://localhost:8080/"
        },
        "id": "C2avlFWwzK8L",
        "outputId": "98f1a281-8636-4650-abe9-06bcd5fe1014"
      },
      "source": [
        "TEST_DATA_FILENAME = 't10k-images-idx3-ubyte'\n",
        "TEST_LABELS_FILENAME = 't10k-labels-idx1-ubyte'\n",
        "TRAIN_DATA_FILENAME = 'train-images-idx3-ubyte'\n",
        "TRAIN_LABELS_FILENAME = 'train-labels-idx1-ubyte'\n",
        "\n",
        "n_train = 100 # Numero de imagens carregadas para treinamento\n",
        "n_test = 10 # Numero de imagens carregadas para teste\n",
        "\n",
        "x_train = read_images(TRAIN_DATA_FILENAME, n_train)\n",
        "y_train = np.array(read_labels(TRAIN_LABELS_FILENAME, n_train)).reshape(n_train,1)\n",
        "print(len(x_train[0]))\n",
        "print(len(x_train[0][0]))\n",
        "\n",
        "x_test = read_images(TEST_DATA_FILENAME, n_test)\n",
        "y_test = read_labels(TEST_LABELS_FILENAME, n_test)\n",
        "\n",
        "x_train = np.array(extract_features(x_train))/255 # Transformando em numpy array e normalizando (valores entre 0 e 1)\n",
        "x_test = np.array(extract_features(x_test))/255 # Transformando em numpy array e normalizando (valores entre 0 e 1)\n",
        "print(len(x_train[0]))\n"
      ],
      "execution_count": 9,
      "outputs": [
        {
          "output_type": "stream",
          "name": "stdout",
          "text": [
            "28\n",
            "28\n",
            "784\n"
          ]
        }
      ]
    },
    {
      "cell_type": "markdown",
      "metadata": {
        "id": "YuPGEwxLenJW"
      },
      "source": [
        "### Visualização"
      ]
    },
    {
      "cell_type": "code",
      "metadata": {
        "colab": {
          "base_uri": "https://localhost:8080/",
          "height": 591
        },
        "id": "PgdNxvMtftIC",
        "outputId": "c3d6d7f4-c14a-45df-98ab-5758e49d8a13"
      },
      "source": [
        "from PIL import Image\n",
        "\n",
        "sample_images = read_images(TEST_DATA_FILENAME, 16, show=True)\n",
        "sample_labels = read_labels(TEST_LABELS_FILENAME, 16)\n",
        "plt.figure(figsize=(10, 10))\n",
        "for idx, test_sample in enumerate(sample_images):\n",
        "    img = Image.fromarray(np.array(test_sample), 'L')\n",
        "    ax = plt.subplot(4, 4, idx + 1)\n",
        "    plt.imshow(img)\n",
        "    plt.title(int(sample_labels[idx]))\n",
        "    plt.axis(\"off\")   "
      ],
      "execution_count": 10,
      "outputs": [
        {
          "output_type": "display_data",
          "data": {
            "image/png": "[encoded data removed]",
            "text/plain": [
              "<Figure size 720x720 with 16 Axes>"
            ]
          },
          "metadata": {
            "needs_background": "light"
          }
        }
      ]
    },
    {
      "cell_type": "markdown",
      "metadata": {
        "id": "dhY7nv6zlbBz"
      },
      "source": [
        "## Modelagem\n",
        "\n"
      ]
    },
    {
      "cell_type": "markdown",
      "metadata": {
        "id": "xcXnBnbapnzF"
      },
      "source": [
        "### Começando com o perceptron classificador de 1s:"
      ]
    },
    {
      "cell_type": "markdown",
      "metadata": {
        "id": "1GGtGtnqh9Zk"
      },
      "source": [
        ">> Utilizando o *Perceptron* feito na **atividade 1**, e sendo este somente 1 neurônio, ele é limitado a respostas do tipo $0$ ou $1$. Primeiramente é feita a adaptação dos dados, onde todos os valores diferentes de $1$ da base de treinamento são zerados e armazenados em **y_formatado**, treinando assim um classificador de 1s e fazendo as previsões utilizando a base de testes."
      ]
    },
    {
      "cell_type": "code",
      "metadata": {
        "colab": {
          "base_uri": "https://localhost:8080/"
        },
        "id": "z6lTFcmhpmGJ",
        "outputId": "69680d1c-302b-4d69-d960-3c21e3ce4d58"
      },
      "source": [
        "P = Perceptron(alpha=0.01, epochs=200)\n",
        "intermediate = y_train\n",
        "# Formatar labels de treinamento: [ATIVIDADE 5]\n",
        "y_formatado = np.where(intermediate == 1 , 1, 0)\n",
        "\n",
        "# Treinar Rede: [ATIVIDADE 6]\n",
        "\n",
        "training = p.fit(x_train,y_formatado)\n",
        "\n",
        "# Gerar vetor de predições: [ATIVIDADE 7]\n",
        "\n",
        "predictions = training.predict(x_test)\n",
        "\n",
        "print(y_test)\n",
        "print(predictions)"
      ],
      "execution_count": 11,
      "outputs": [
        {
          "output_type": "stream",
          "name": "stdout",
          "text": [
            "[7, 2, 1, 0, 4, 1, 4, 9, 5, 9]\n",
            "[0 0 1 0 0 1 0 0 0 0]\n"
          ]
        }
      ]
    },
    {
      "cell_type": "markdown",
      "metadata": {
        "id": "PvH26RFPuIXf"
      },
      "source": [
        "### Agora com os 10 classificadores"
      ]
    },
    {
      "cell_type": "markdown",
      "metadata": {
        "id": "PP404uLrjXzK"
      },
      "source": [
        ">> Utilizando os mesmos parâmetros da **atividade 5**, agora é treinado para cada valor da base de treinamento (entre $0$ e $9$), e armazenado em uma lista de objetos cada treinamento para cada valor, e feito igualmente para as predições. Como mostra o *print*, ele não consegue acertar a posição que tem o valor 2 na base de teste. "
      ]
    },
    {
      "cell_type": "code",
      "metadata": {
        "id": "i7NqYzNqo0l0",
        "colab": {
          "base_uri": "https://localhost:8080/"
        },
        "outputId": "692e4c6a-6725-4aad-fab4-5d38add445ac"
      },
      "source": [
        "P_list = []\n",
        "predictions = []\n",
        "# Inicialize uma lista de 10 perceptrons: [ATIVIDADE 8]\n",
        "\n",
        "for i in range(10):\n",
        "  intermediate = y_train\n",
        "  y_formatado = np.where(intermediate == i , 1, 0)\n",
        "  # Loop de treinamento: [Atividade 9]\n",
        "  training = p.fit(x_train,y_formatado)\n",
        "  # Loop de predições: [Atividade 10]\n",
        "  prediction = training.predict(x_test)\n",
        "  P_list.append(training)\n",
        "  predictions.append(prediction)\n",
        "  del(y_formatado, intermediate)\n",
        "\n",
        "print(y_test)\n",
        "print(predictions[2])"
      ],
      "execution_count": 12,
      "outputs": [
        {
          "output_type": "stream",
          "name": "stdout",
          "text": [
            "[7, 2, 1, 0, 4, 1, 4, 9, 5, 9]\n",
            "[1 0 0 0 1 1 0 0 0 0]\n"
          ]
        }
      ]
    },
    {
      "cell_type": "markdown",
      "metadata": {
        "id": "LRL2koVfwa32"
      },
      "source": [
        "### Formatando tudo para calcular acuracia"
      ]
    },
    {
      "cell_type": "markdown",
      "metadata": {
        "id": "nFEtDZinwnZM"
      },
      "source": [
        "A variável predictions contém o resultado da predição dos nossos 10 perceptrons, e para cada um deles existe um vetor de n_test predições. \n",
        "\n",
        "Para que possamos calcular a acurácia precisamos agrupar a primeira predição de cada perceptron, a segunda de cada perceptron, e assim por diante.\n",
        "\n",
        "Além disso precisamos converter o nosso vetor de labels para comparar com as predições. Lembrando que aqui teremos o problema de quebrar empates, e com essa solução iremos considerar que um empate, ou seja, quando dois ou mais perceptrons ativarem para o mesmo input, é um erro.\n"
      ]
    },
    {
      "cell_type": "code",
      "metadata": {
        "colab": {
          "base_uri": "https://localhost:8080/"
        },
        "id": "uTj9jJ_iwO6b",
        "outputId": "f614960d-7055-4de9-ff3d-a44ffc4594ca"
      },
      "source": [
        "# Reformatando o vetor de predições\n",
        "grouped_predictions = []\n",
        "for i in range(n_test):\n",
        "  singlePrediction = []\n",
        "  for j, prediction in enumerate(predictions):\n",
        "    singlePrediction.append(prediction[i])\n",
        "  grouped_predictions.append(singlePrediction)\n",
        "\n",
        "# Reformatando o vetor de labels\n",
        "def convert_number_to_array_prediction(n):\n",
        "  array_prediction = np.zeros(10)\n",
        "  array_prediction[n] = 1\n",
        "  return array_prediction\n",
        "\n",
        "def convert_y_test_to_array_prediction(ytest):\n",
        "  convertedList = []\n",
        "  for i in ytest:\n",
        "    convertedList.append(convert_number_to_array_prediction(i))\n",
        "  return np.array(convertedList)\n",
        "\n",
        "# Salvando novo vetor de y_test\n",
        "y_test_as_array = convert_y_test_to_array_prediction(y_test)\n",
        "\n",
        "# Definindo nova função de acuracia [OBS2]\n",
        "hits = 0\n",
        "for i, prediction in enumerate(grouped_predictions):\n",
        "  # print(prediction)\n",
        "  # print(convertedArray[i])\n",
        "  if (prediction == y_test_as_array[i]).all():\n",
        "    hits+=1\n",
        "\n",
        "# print('gp', grouped_predictions)\n",
        "# print('y', y_test_as_array)\n",
        "print('Acurácia: ',hits/n_test)"
      ],
      "execution_count": 13,
      "outputs": [
        {
          "output_type": "stream",
          "name": "stdout",
          "text": [
            "Acurácia:  0.2\n"
          ]
        }
      ]
    },
    {
      "cell_type": "markdown",
      "metadata": {
        "id": "WIKb92fNjJXb"
      },
      "source": [
        ">> Devido a base de treinamento ser pequena, a acurácia deste *Perceptron* é baixa."
      ]
    },
    {
      "cell_type": "markdown",
      "metadata": {
        "id": "eKTojD2K2brX"
      },
      "source": [
        "### Atividade 10: Melhorar a Acuracia\n",
        "Altere o valor de n_test para 100, e modifique os valores de n_train, n_epocas, alpha, etc. Consiga uma acuracia mínima de 70%."
      ]
    },
    {
      "cell_type": "markdown",
      "metadata": {
        "id": "UZe44Emhkhji"
      },
      "source": [
        "> Para facilitar a formatação da base de treinamento de acordo com o tamanho desejado, e calcular a acurácia para este caso transformei parte dos códigos dados em função, pois serão usados mais de uma vez."
      ]
    },
    {
      "cell_type": "code",
      "metadata": {
        "id": "f3SnxyGUWP5j"
      },
      "source": [
        "def format_y_test(n_train,n_test):\n",
        "  TEST_DATA_FILENAME = 't10k-images-idx3-ubyte'\n",
        "  TEST_LABELS_FILENAME = 't10k-labels-idx1-ubyte'\n",
        "  TRAIN_DATA_FILENAME = 'train-images-idx3-ubyte'\n",
        "  TRAIN_LABELS_FILENAME = 'train-labels-idx1-ubyte'\n",
        "\n",
        "  x_train = read_images(TRAIN_DATA_FILENAME, n_train)\n",
        "  y_train = np.array(read_labels(TRAIN_LABELS_FILENAME, n_train)).reshape(n_train,1)\n",
        "\n",
        "\n",
        "  x_test = read_images(TEST_DATA_FILENAME, n_test)\n",
        "  y_test = read_labels(TEST_LABELS_FILENAME, n_test)\n",
        "\n",
        "  x_train = np.array(extract_features(x_train))/255 # Transformando em numpy array e normalizando (valores entre 0 e 1)\n",
        "  x_test = np.array(extract_features(x_test))/255 # Transformando em numpy array e normalizando (valores entre 0 e 1)\n",
        "  return x_train, x_test, y_train, y_test\n",
        "\n",
        "def new_accuracy(predictions, n_test):\n",
        "  # Reformatando o vetor de predições\n",
        "  grouped_predictions = []\n",
        "  for i in range(n_test):\n",
        "    singlePrediction = []\n",
        "    for j, prediction in enumerate(predictions):\n",
        "      singlePrediction.append(prediction[i])\n",
        "    grouped_predictions.append(singlePrediction)\n",
        "\n",
        "\n",
        "  # Salvando novo vetor de y_test\n",
        "  y_test_as_array = convert_y_test_to_array_prediction(y_test)\n",
        "\n",
        "  # Definindo nova função de acuracia [OBS2]\n",
        "  hits = 0\n",
        "  for i, prediction in enumerate(grouped_predictions):\n",
        "\n",
        "    if (prediction == y_test_as_array[i]).all():\n",
        "      hits+=1\n",
        "  return (hits/n_test)"
      ],
      "execution_count": 14,
      "outputs": []
    },
    {
      "cell_type": "markdown",
      "metadata": {
        "id": "nCDKpTjRlb16"
      },
      "source": [
        ">> Para conseguir uma acurácia melhor do que a apresentada anteriormente, foi-se necessário a alteração de  $30 \\times$ da base de treinamento inicial, que inicialmente era $100$ e passou para $3000$, e devido ao algoritmo se tornar mais lento devido ao aumento da base de treinamento, o valor de *alpha* que no teste da **atividade 5** era $0.01$, aqui é $0.1$."
      ]
    },
    {
      "cell_type": "code",
      "metadata": {
        "colab": {
          "base_uri": "https://localhost:8080/"
        },
        "id": "VoJ5DW1hyE-B",
        "outputId": "68ac6391-5ef8-49b8-d4a3-d8eadcc1451f"
      },
      "source": [
        "n_test = 100\n",
        "n_train = 3000\n",
        "[x_train, x_test, y_train, y_test] = format_y_test(n_train,n_test)\n",
        "\n",
        "P_list = []\n",
        "predictions = []\n",
        "\n",
        "p = Perceptron(alpha=0.1, epochs=200)\n",
        "\n",
        "# Inicialize uma lista de 10 perceptrons: [ATIVIDADE 8]\n",
        "# Loop de treinamento: [Atividade 9]\n",
        "# Loop de predições: [Atividade 10]\n",
        "\n",
        "for i in range(10):\n",
        "  intermediate = y_train\n",
        "  y_formatado = np.where(intermediate == i , 1, 0)\n",
        "  training = p.fit(x_train,y_formatado)\n",
        "  prediction = training.predict(x_test)\n",
        "  P_list.append(training)\n",
        "  predictions.append(prediction)\n",
        "  del(y_formatado, intermediate)\n",
        "\n",
        "\n",
        "# Reformatando o vetor de predições\n",
        "grouped_predictions = []\n",
        "for i in range(n_test):\n",
        "  singlePrediction = []\n",
        "  for j, prediction in enumerate(predictions):\n",
        "    singlePrediction.append(prediction[i])\n",
        "  grouped_predictions.append(singlePrediction)\n",
        "\n",
        "\n",
        "accuracy = new_accuracy(predictions, n_test)\n",
        "print('Acurácia: ',accuracy)\n"
      ],
      "execution_count": 15,
      "outputs": [
        {
          "output_type": "stream",
          "name": "stdout",
          "text": [
            "Acurácia:  0.7\n"
          ]
        }
      ]
    },
    {
      "cell_type": "markdown",
      "metadata": {
        "id": "mwVvpaW-mrZ6"
      },
      "source": [
        ">> Esta não é a única alteração possível, por exemplo com a redução do valor da taxa de aprendizado, pode-se reduzir o número de iterações necessárias (*epochs*), porém o algoritmo se torna mais lento."
      ]
    },
    {
      "cell_type": "markdown",
      "metadata": {
        "id": "yaQt2hof2t1a"
      },
      "source": [
        "# Sigmoid como função de ativação"
      ]
    },
    {
      "cell_type": "markdown",
      "metadata": {
        "id": "xIYIiljE-SwA"
      },
      "source": [
        "A função de ativação sigmoid é muito utilizada em machine learning. Ela resulta em um output entre 0 e 1, portanto nos permite prever a probabilidade de um output.\n",
        "\n",
        "\n",
        "Para o nosso problema específico essa função tem um benefício a mais que é o de permitir a quebra de empates com a existencia de valores intermediários entre 0 e 1.\n",
        "\n",
        "Para implementar o sigmoid o treinamento muda um pouco. No nosso caso não utilizaremos mais o alpha e sim um componente derivativo que assumirá o papel do alpha no treinamento da rede. (Podemos continuar utilizando alpha, mas não é tão necessário quanto no caso da função degrau)"
      ]
    },
    {
      "cell_type": "code",
      "metadata": {
        "colab": {
          "base_uri": "https://localhost:8080/",
          "height": 282
        },
        "id": "gqIUpI80fNOC",
        "outputId": "b733f390-5a44-4ea7-c399-69e1d50af4a6"
      },
      "source": [
        "x = np.arange(-10., 10., 0.2)\n",
        "sig = 1 / (1 + np.exp(-x))\n",
        "plt.plot(x, sig, 'b', label='Função Sigmoid')"
      ],
      "execution_count": 16,
      "outputs": [
        {
          "output_type": "execute_result",
          "data": {
            "text/plain": [
              "[<matplotlib.lines.Line2D at 0x7f062b1fad10>]"
            ]
          },
          "metadata": {},
          "execution_count": 16
        },
        {
          "output_type": "display_data",
          "data": {
            "image/png": "[encoded data removed]",
            "text/plain": [
              "<Figure size 432x288 with 1 Axes>"
            ]
          },
          "metadata": {
            "needs_background": "light"
          }
        }
      ]
    },
    {
      "cell_type": "markdown",
      "metadata": {
        "id": "m4ud-Hm05nAa"
      },
      "source": [
        "## Começaremos reescrevendo o nosso perceptron"
      ]
    },
    {
      "cell_type": "markdown",
      "metadata": {
        "id": "6qkziCVC5x4Q"
      },
      "source": [
        ">> O *Perceptron* abaixo, com a função sigmoide de ativação, $y = \\frac{1}{1+e^{- \\theta}}$, inicia com valores randômicos entre $-1$ e $1$, modelado com o $\\theta$ como uma função linear do tipo $\\theta = ax + b$, onde $a$ é definido como os pesos (*weights*) e $b$ o viés (*bias*), a variável *update* apresenta o valor calculado em cada iteração (*epoch*) e os pesos e o viés são atualizados através do produto do *gradient descending* e com o erro entre a saída desajada e a calculado ."
      ]
    },
    {
      "cell_type": "code",
      "metadata": {
        "id": "vxi5XHy45zLx"
      },
      "source": [
        "class Perceptron_sigmoid(object):\n",
        "  \n",
        "  def __init__(self, epochs=10):\n",
        "    np.random.seed(1)\n",
        "    self.epochs = epochs\n",
        "    self.weights = None\n",
        "    self.bias = None\n",
        "  \n",
        "  def sigmoid_derivative(self, x):\n",
        "    #computing derivative to the Sigmoid function\n",
        "    return x * (1 - x)\n",
        "  \n",
        "  def fit (self, X, Y):\n",
        "    n_samples, n_features = X.shape\n",
        "    # Inicialize os Pesos e Bias: [ATIVIDADE 11]\n",
        "    random_values = 2*np.random.random((n_features + 1,)) - 1\n",
        "    #random_values = np.zeros(1 + n_features)\n",
        "    self.weights = random_values[1:]\n",
        "    self.bias = random_values[0]\n",
        "\n",
        "    for epoch in range(self.epochs):\n",
        "      for index, x_i in enumerate(X):\n",
        "        update = self.predict(x_i)\n",
        "        error = Y[index] - update\n",
        "        # Calcule o sigmoid_derivative : [ATIVIDADE 12]\n",
        "        self.weights += self.sigmoid_derivative(update) * x_i * error\n",
        "        self.bias += self.sigmoid_derivative(update) * error\n",
        "    return self\n",
        "      \n",
        "    \n",
        "  def predict(self, X):\n",
        "    # Calcule o output do perceptron: [ATIVIDADE 13]\n",
        "    theta = np.dot(X, self.weights) + self.bias\n",
        "    output = self.activation(theta)\n",
        "    return output\n",
        "    \n",
        "\n",
        "  def activation(self, signal):\n",
        "    return 1 / (1 + np.exp(-signal)) # Função sigmoid de ativação"
      ],
      "execution_count": 17,
      "outputs": []
    },
    {
      "cell_type": "markdown",
      "metadata": {
        "id": "8QGj9ZtmeolV"
      },
      "source": [
        "> Novamente, como na **atividade 5**, é testado a saída, agora com o novo *Perceptron_sigmoid*. "
      ]
    },
    {
      "cell_type": "code",
      "metadata": {
        "colab": {
          "base_uri": "https://localhost:8080/"
        },
        "id": "E6YjH1goGyPT",
        "outputId": "37d1bd78-5f20-4ed9-f603-ef095cfc4a4d"
      },
      "source": [
        "n_test = 10\n",
        "n_train = 100\n",
        "[x_train, x_test, y_train, y_test] = format_y_test(n_train,n_test)\n",
        "P = Perceptron_sigmoid(epochs= 100)\n",
        "intermediate = y_train\n",
        "y_formatado = np.where(intermediate == 1 , 1, 0)\n",
        "training = P.fit(x_train,y_formatado)\n",
        "prediction = training.predict(x_test)\n",
        "print(y_test)\n",
        "print(np.round(prediction))\n",
        "print(prediction)"
      ],
      "execution_count": 18,
      "outputs": [
        {
          "output_type": "stream",
          "name": "stdout",
          "text": [
            "[7, 2, 1, 0, 4, 1, 4, 9, 5, 9]\n",
            "[0. 0. 1. 0. 0. 1. 0. 0. 0. 0.]\n",
            "[5.47216645e-07 1.63405348e-05 9.96830051e-01 3.13944805e-08\n",
            " 6.91812576e-05 9.99035648e-01 4.41341048e-07 2.74051442e-06\n",
            " 4.44968399e-03 2.52412460e-06]\n"
          ]
        }
      ]
    },
    {
      "cell_type": "markdown",
      "metadata": {
        "id": "ElXl0J2Ops22"
      },
      "source": [
        ">> Como mostra acima, quando ele identifica o valor na base de testes, os valores de predição são sempre próximos a $1$ e são encontrados valores muito baixos para os outros da base de testes, então os valores foram arredondados para a melhor visualização e para poder calcular a acurácia deste caso."
      ]
    },
    {
      "cell_type": "markdown",
      "metadata": {
        "id": "yozrKkFOK4oY"
      },
      "source": [
        "### Atividade 14: Liste, Treine e Rode o sistema\n",
        "Como feito anteriormente [8, 9, 10] Inicialize seu sistema, treine, e gere seu vetor de predições."
      ]
    },
    {
      "cell_type": "markdown",
      "metadata": {
        "id": "vdm5YaVHqiZX"
      },
      "source": [
        ">> Para este *Perceptron*, só é necessário aumentar a base de treinamento em $7 \\times$, e usar $\\frac{1}{4}$ do valor de iterações para conseguir uma acurácia levemente melhor que o primeiro *Perceptron*."
      ]
    },
    {
      "cell_type": "code",
      "metadata": {
        "colab": {
          "base_uri": "https://localhost:8080/"
        },
        "id": "QcLy-NkZ6xcY",
        "outputId": "8c8042a8-c8c4-4907-f93f-793416b51897"
      },
      "source": [
        "n_test = 100\n",
        "n_train = 700\n",
        "[x_train, x_test, y_train, y_test] = format_y_test(n_train,n_test)\n",
        "\n",
        "P_list = []\n",
        "# Liste, Treine e Rode seu sistema de 10 perceptrons: [ATIVIDADE 14]\n",
        "final_predictions = []\n",
        "\n",
        "P = Perceptron_sigmoid(epochs= 50)\n",
        "\n",
        "for i in range(10):\n",
        "  intermediate = y_train\n",
        "  y_formatado = np.where(intermediate == i , 1, 0)\n",
        "  training = P.fit(x_train,y_formatado)\n",
        "  prediction = training.predict(x_test)\n",
        "  P_list.append(training)\n",
        "  # Preencha o vetor final_predictions: [ATIVIDADE 15]\n",
        "  final_predictions.append(np.round(prediction))\n",
        "\n",
        "accuracy = new_accuracy(final_predictions, n_test)\n",
        "print('Acurácia: ',accuracy)\n",
        "\n"
      ],
      "execution_count": 19,
      "outputs": [
        {
          "output_type": "stream",
          "name": "stdout",
          "text": [
            "Acurácia:  0.73\n"
          ]
        }
      ]
    },
    {
      "cell_type": "markdown",
      "metadata": {
        "id": "q9Asb7BP75Rd"
      },
      "source": [
        "# Alguns questionamentos"
      ]
    },
    {
      "cell_type": "markdown",
      "metadata": {
        "id": "ZMXsxEQL785R"
      },
      "source": [
        "**1. Compare o desempenho obtido pelo perceptron 1, com função de ativação degrau e do perceptron 2, com função de ativação sigmoid.**\n",
        "\n",
        "Resposta: O desempenho do segundo *Perceptron* para esta base de dados é muito superior, pois o mesmo com somente $23.3 \\%$ da base de treinamento do primeiro *Perceptron* já consegue ter uma acurácia similiar, além do tempo de processamento, o primeiro *perceptron* leva cerca de 2 min, já o segundo 9 s."
      ]
    },
    {
      "cell_type": "markdown",
      "metadata": {
        "id": "tjAQHgsTRE9e"
      },
      "source": [
        "**2. Que parâmetros podemos modificar para melhorar a acuracia?**\n",
        "\n",
        "Resposta: Para o primeiro *perceptron*: a taxa de aprendizado (*alpha*), o número de iterações (*epochs*) e o tamanho da base de treinamento (*n_train*).\n",
        "\n",
        "Para o segundo *perceptron*: o número de iterações (*epochs*) e o tamanho da base de treinamento (*n_train*).\n",
        "\n",
        "> Considerando que a base de testes sempre será igual para ambos."
      ]
    }
  ]
}